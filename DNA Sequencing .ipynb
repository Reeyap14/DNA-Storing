{
  "nbformat": 4,
  "nbformat_minor": 0,
  "metadata": {
    "colab": {
      "provenance": []
    },
    "kernelspec": {
      "name": "python3",
      "display_name": "Python 3"
    },
    "language_info": {
      "name": "python"
    }
  },
  "cells": [
    {
      "cell_type": "code",
      "execution_count": 2,
      "metadata": {
        "colab": {
          "base_uri": "https://localhost:8080/"
        },
        "id": "UC7r5aMltA6Z",
        "outputId": "09c8ea23-0127-4712-cf74-95540d38bc7b"
      },
      "outputs": [
        {
          "output_type": "stream",
          "name": "stdout",
          "text": [
            "Do you want to convert a (1) sentence or (2) image to DNA sequence? Choose 1 or 2: 1\n",
            "What would you like to convert? Reeya\n",
            "\n",
            "The original input is:\n",
            "Reeya\n",
            "\n",
            "The input after binary conversion is:\n",
            "0101001001100101011001010111100101100001\n",
            "\n",
            "The input represented by single-letter DNA codes is:\n",
            "GGACGCGGGCGGGTCGGCAG\n",
            "\n"
          ]
        }
      ],
      "source": [
        "\n",
        "import cv2\n",
        "import numpy as np\n",
        "\n",
        "# Binary to DNA Encoding\n",
        "DNA_encoding = {\n",
        "    \"00\": \"A\",\n",
        "    \"01\": \"G\",\n",
        "    \"10\": \"C\",\n",
        "    \"11\": \"T\"\n",
        "}\n",
        "\n",
        "def text_to_binary(text):\n",
        "    return ''.join(format(x, '08b') for x in bytearray(text, 'utf-8'))\n",
        "\n",
        "def image_to_binary(image_path):\n",
        "    # Load the image using OpenCV\n",
        "    img = cv2.imread(image_path, 0)  # Read in grayscale\n",
        "    _, img = cv2.threshold(img, 128, 255, cv2.THRESH_BINARY)\n",
        "    return ''.join(format(pixel, '08b') for row in img for pixel in row)\n",
        "\n",
        "def binary_to_DNA(binary_str):\n",
        "    # Split binary string into chunks of size 2\n",
        "    binary_list = [binary_str[i: i+2] for i in range(0, len(binary_str), 2)]\n",
        "    DNA_list = [DNA_encoding.get(num) for num in binary_list]\n",
        "    return \"\".join(DNA_list)\n",
        "\n",
        "# Main flow of the program\n",
        "if __name__ == \"__main__\":\n",
        "    choice = input(\"Do you want to convert a (1) sentence or (2) image to DNA sequence? Choose 1 or 2: \")\n",
        "\n",
        "    if choice == \"1\":\n",
        "        original_str = input(\"What would you like to convert? \")\n",
        "        binary_str = text_to_binary(original_str)\n",
        "\n",
        "    elif choice == \"2\":\n",
        "        print(\"Please upload the image (make sure it's present in the same directory as this script or provide a full path).\")\n",
        "        image_path = input(\"Enter the image filename: \")\n",
        "        binary_str = image_to_binary(image_path)\n",
        "        original_str = \"Image: \" + image_path\n",
        "    else:\n",
        "        print(\"Invalid choice!\")\n",
        "        exit()\n",
        "\n",
        "    DNA_str = binary_to_DNA(binary_str)\n",
        "\n",
        "    # Display the results\n",
        "    print(\"\\nThe original input is:\\n\" + original_str + \"\\n\")\n",
        "    print(\"The input after binary conversion is:\\n\" + binary_str + \"\\n\")\n",
        "    print(\"The input represented by single-letter DNA codes is:\\n\" + DNA_str + \"\\n\")\n"
      ]
    }
  ]
}